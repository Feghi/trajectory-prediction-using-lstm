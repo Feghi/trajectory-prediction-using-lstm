{
 "cells": [
  {
   "cell_type": "code",
   "execution_count": 27,
   "metadata": {},
   "outputs": [],
   "source": [
    "# This Python 3 environment comes with many helpful analytics libraries installed\n",
    "# It is defined by the kaggle/python docker image: https://github.com/kaggle/docker-python\n",
    "# For example, here's several helpful packages to load in \n",
    "\n",
    "import numpy as np # linear algebra\n",
    "import pandas as pd # data processing, CSV file I/O (e.g. pd.read_csv)\n",
    "\n",
    "from sklearn.feature_extraction.text import CountVectorizer\n",
    "from keras.preprocessing.text import Tokenizer\n",
    "from keras.preprocessing.sequence import pad_sequences\n",
    "from keras.models import Sequential\n",
    "from keras.layers import Dense, Embedding, LSTM, SpatialDropout1D\n",
    "from sklearn.model_selection import train_test_split\n",
    "from keras.utils.np_utils import to_categorical\n",
    "import re"
   ]
  },
  {
   "cell_type": "code",
   "execution_count": 13,
   "metadata": {},
   "outputs": [
    {
     "data": {
      "text/html": [
       "<div>\n",
       "<style scoped>\n",
       "    .dataframe tbody tr th:only-of-type {\n",
       "        vertical-align: middle;\n",
       "    }\n",
       "\n",
       "    .dataframe tbody tr th {\n",
       "        vertical-align: top;\n",
       "    }\n",
       "\n",
       "    .dataframe thead th {\n",
       "        text-align: right;\n",
       "    }\n",
       "</style>\n",
       "<table border=\"1\" class=\"dataframe\">\n",
       "  <thead>\n",
       "    <tr style=\"text-align: right;\">\n",
       "      <th></th>\n",
       "      <th>Unnamed: 0</th>\n",
       "      <th>strDrink</th>\n",
       "      <th>dateModified</th>\n",
       "      <th>idDrink</th>\n",
       "      <th>strAlcoholic</th>\n",
       "      <th>strCategory</th>\n",
       "      <th>strDrinkThumb</th>\n",
       "      <th>strGlass</th>\n",
       "      <th>strIBA</th>\n",
       "      <th>strIngredient1</th>\n",
       "      <th>strIngredient10</th>\n",
       "      <th>strIngredient11</th>\n",
       "      <th>strIngredient12</th>\n",
       "      <th>strIngredient13</th>\n",
       "      <th>strIngredient14</th>\n",
       "      <th>strIngredient15</th>\n",
       "      <th>strIngredient2</th>\n",
       "      <th>strIngredient3</th>\n",
       "      <th>strIngredient4</th>\n",
       "      <th>strIngredient5</th>\n",
       "      <th>strIngredient6</th>\n",
       "      <th>strIngredient7</th>\n",
       "      <th>strIngredient8</th>\n",
       "      <th>strIngredient9</th>\n",
       "      <th>strInstructions</th>\n",
       "      <th>strMeasure1</th>\n",
       "      <th>strMeasure10</th>\n",
       "      <th>strMeasure11</th>\n",
       "      <th>strMeasure12</th>\n",
       "      <th>strMeasure13</th>\n",
       "      <th>strMeasure14</th>\n",
       "      <th>strMeasure15</th>\n",
       "      <th>strMeasure2</th>\n",
       "      <th>strMeasure3</th>\n",
       "      <th>strMeasure4</th>\n",
       "      <th>strMeasure5</th>\n",
       "      <th>strMeasure6</th>\n",
       "      <th>strMeasure7</th>\n",
       "      <th>strMeasure8</th>\n",
       "      <th>strMeasure9</th>\n",
       "      <th>strVideo</th>\n",
       "    </tr>\n",
       "  </thead>\n",
       "  <tbody>\n",
       "    <tr>\n",
       "      <th>218</th>\n",
       "      <td>218</td>\n",
       "      <td>Dark and Stormy</td>\n",
       "      <td>2017-09-02 18:55:05</td>\n",
       "      <td>17211</td>\n",
       "      <td>Alcoholic</td>\n",
       "      <td>Ordinary Drink</td>\n",
       "      <td>http://www.thecocktaildb.com/images/media/drin...</td>\n",
       "      <td>Highball glass</td>\n",
       "      <td>New Era Drinks</td>\n",
       "      <td>Dark Rum</td>\n",
       "      <td>NaN</td>\n",
       "      <td>NaN</td>\n",
       "      <td>NaN</td>\n",
       "      <td>NaN</td>\n",
       "      <td>NaN</td>\n",
       "      <td>NaN</td>\n",
       "      <td>Ginger Beer</td>\n",
       "      <td>NaN</td>\n",
       "      <td>NaN</td>\n",
       "      <td>NaN</td>\n",
       "      <td>NaN</td>\n",
       "      <td>NaN</td>\n",
       "      <td>NaN</td>\n",
       "      <td>NaN</td>\n",
       "      <td>In a highball glass filled with ice add 6cl da...</td>\n",
       "      <td>5 cl</td>\n",
       "      <td>NaN</td>\n",
       "      <td>NaN</td>\n",
       "      <td>NaN</td>\n",
       "      <td>NaN</td>\n",
       "      <td>NaN</td>\n",
       "      <td>NaN</td>\n",
       "      <td>10 cl</td>\n",
       "      <td>NaN</td>\n",
       "      <td>NaN</td>\n",
       "      <td>NaN</td>\n",
       "      <td></td>\n",
       "      <td></td>\n",
       "      <td>NaN</td>\n",
       "      <td>NaN</td>\n",
       "      <td>NaN</td>\n",
       "    </tr>\n",
       "    <tr>\n",
       "      <th>463</th>\n",
       "      <td>463</td>\n",
       "      <td>Sherry Flip</td>\n",
       "      <td>2016-11-10 23:27:08</td>\n",
       "      <td>12190</td>\n",
       "      <td>Alcoholic</td>\n",
       "      <td>Ordinary Drink</td>\n",
       "      <td>http://www.thecocktaildb.com/images/media/drin...</td>\n",
       "      <td>Whiskey sour glass</td>\n",
       "      <td>NaN</td>\n",
       "      <td>Sherry</td>\n",
       "      <td>NaN</td>\n",
       "      <td>NaN</td>\n",
       "      <td>NaN</td>\n",
       "      <td>NaN</td>\n",
       "      <td>NaN</td>\n",
       "      <td>NaN</td>\n",
       "      <td>Light cream</td>\n",
       "      <td>Powdered sugar</td>\n",
       "      <td>Egg</td>\n",
       "      <td>Nutmeg</td>\n",
       "      <td>NaN</td>\n",
       "      <td>NaN</td>\n",
       "      <td>NaN</td>\n",
       "      <td>NaN</td>\n",
       "      <td>Shake all ingredients (except nutmeg) with ice...</td>\n",
       "      <td>1 1/2 oz cream</td>\n",
       "      <td>\\n</td>\n",
       "      <td>NaN</td>\n",
       "      <td>NaN</td>\n",
       "      <td>NaN</td>\n",
       "      <td>NaN</td>\n",
       "      <td>NaN</td>\n",
       "      <td>2 tsp</td>\n",
       "      <td>1 tsp</td>\n",
       "      <td>1 whole</td>\n",
       "      <td>\\n</td>\n",
       "      <td>\\n</td>\n",
       "      <td>\\n</td>\n",
       "      <td>\\n</td>\n",
       "      <td>\\n</td>\n",
       "      <td>NaN</td>\n",
       "    </tr>\n",
       "    <tr>\n",
       "      <th>20</th>\n",
       "      <td>20</td>\n",
       "      <td>A Splash of Nash</td>\n",
       "      <td>2016-08-31 19:30:01</td>\n",
       "      <td>14564</td>\n",
       "      <td>Alcoholic</td>\n",
       "      <td>Shot</td>\n",
       "      <td>http://www.thecocktaildb.com/images/media/drin...</td>\n",
       "      <td>Highball glass</td>\n",
       "      <td>NaN</td>\n",
       "      <td>Cranberry juice</td>\n",
       "      <td>NaN</td>\n",
       "      <td>NaN</td>\n",
       "      <td>NaN</td>\n",
       "      <td>NaN</td>\n",
       "      <td>NaN</td>\n",
       "      <td>NaN</td>\n",
       "      <td>Soda water</td>\n",
       "      <td>Midori melon liqueur</td>\n",
       "      <td>Creme de Banane</td>\n",
       "      <td>NaN</td>\n",
       "      <td>NaN</td>\n",
       "      <td>NaN</td>\n",
       "      <td>NaN</td>\n",
       "      <td>NaN</td>\n",
       "      <td>Drop shot glass with banana &amp; melon liquers in...</td>\n",
       "      <td>2 oz</td>\n",
       "      <td>NaN</td>\n",
       "      <td>NaN</td>\n",
       "      <td>NaN</td>\n",
       "      <td>NaN</td>\n",
       "      <td>NaN</td>\n",
       "      <td>NaN</td>\n",
       "      <td>2 oz</td>\n",
       "      <td>0.5 oz</td>\n",
       "      <td>0.5 oz</td>\n",
       "      <td></td>\n",
       "      <td></td>\n",
       "      <td></td>\n",
       "      <td></td>\n",
       "      <td></td>\n",
       "      <td>NaN</td>\n",
       "    </tr>\n",
       "  </tbody>\n",
       "</table>\n",
       "</div>"
      ],
      "text/plain": [
       "     Unnamed: 0          strDrink         dateModified  idDrink strAlcoholic     strCategory                                      strDrinkThumb            strGlass          strIBA   strIngredient1 strIngredient10 strIngredient11 strIngredient12  strIngredient13  strIngredient14  strIngredient15 strIngredient2        strIngredient3   strIngredient4 strIngredient5 strIngredient6 strIngredient7 strIngredient8 strIngredient9                                    strInstructions      strMeasure1 strMeasure10 strMeasure11 strMeasure12 strMeasure13 strMeasure14 strMeasure15 strMeasure2 strMeasure3 strMeasure4 strMeasure5 strMeasure6 strMeasure7 strMeasure8 strMeasure9  strVideo\n",
       "218         218   Dark and Stormy  2017-09-02 18:55:05    17211    Alcoholic  Ordinary Drink  http://www.thecocktaildb.com/images/media/drin...      Highball glass  New Era Drinks         Dark Rum             NaN             NaN             NaN              NaN              NaN              NaN    Ginger Beer                   NaN              NaN            NaN            NaN            NaN            NaN            NaN  In a highball glass filled with ice add 6cl da...             5 cl          NaN          NaN          NaN          NaN          NaN          NaN       10 cl         NaN         NaN         NaN                                 NaN         NaN       NaN\n",
       "463         463       Sherry Flip  2016-11-10 23:27:08    12190    Alcoholic  Ordinary Drink  http://www.thecocktaildb.com/images/media/drin...  Whiskey sour glass             NaN           Sherry             NaN             NaN             NaN              NaN              NaN              NaN    Light cream        Powdered sugar              Egg         Nutmeg            NaN            NaN            NaN            NaN  Shake all ingredients (except nutmeg) with ice...  1 1/2 oz cream            \\n          NaN          NaN          NaN          NaN          NaN      2 tsp       1 tsp     1 whole           \\n          \\n          \\n          \\n          \\n       NaN\n",
       "20           20  A Splash of Nash  2016-08-31 19:30:01    14564    Alcoholic            Shot  http://www.thecocktaildb.com/images/media/drin...      Highball glass             NaN  Cranberry juice             NaN             NaN             NaN              NaN              NaN              NaN     Soda water  Midori melon liqueur  Creme de Banane            NaN            NaN            NaN            NaN            NaN  Drop shot glass with banana & melon liquers in...            2 oz           NaN          NaN          NaN          NaN          NaN          NaN       2 oz      0.5 oz      0.5 oz                                                                    NaN"
      ]
     },
     "execution_count": 13,
     "metadata": {},
     "output_type": "execute_result"
    }
   ],
   "source": [
    "drink_df = pd.read_csv('all_drinks.csv')\n",
    "drink_df.sample(3)"
   ]
  },
  {
   "cell_type": "code",
   "execution_count": 14,
   "metadata": {},
   "outputs": [],
   "source": [
    "from keras.preprocessing.text import Tokenizer\n",
    "from keras.preprocessing.sequence import pad_sequences\n",
    "from keras.utils.np_utils import to_categorical"
   ]
  },
  {
   "cell_type": "code",
   "execution_count": 15,
   "metadata": {},
   "outputs": [
    {
     "name": "stdout",
     "output_type": "stream",
     "text": [
      "Found 47 unique tokens.\n",
      "(546, 40, 48)\n"
     ]
    }
   ],
   "source": [
    "str_vec = drink_df['strDrink'].str.lower()\n",
    "MAX_NB_WORDS, MAX_SEQUENCE_LENGTH = 100, 40\n",
    "tokenizer = Tokenizer(num_words=MAX_NB_WORDS, char_level=True)\n",
    "tokenizer.fit_on_texts(str_vec)\n",
    "train_sequences = tokenizer.texts_to_sequences(str_vec)\n",
    "train_data = pad_sequences(train_sequences, maxlen=MAX_SEQUENCE_LENGTH)\n",
    "char_index = tokenizer.word_index\n",
    "print('Found %s unique tokens.' % len(char_index))\n",
    "train_x = np.stack([to_categorical(x, num_classes=len(char_index)+1) for x in train_data],0)\n",
    "print(train_x.shape)"
   ]
  },
  {
   "cell_type": "code",
   "execution_count": 16,
   "metadata": {},
   "outputs": [
    {
     "data": {
      "text/plain": [
       "0                              [creme de cacao, vodka]\n",
       "1    [absolut kurant, grand marnier, chambord raspb...\n",
       "2                                     [lager, tequila]\n",
       "dtype: object"
      ]
     },
     "execution_count": 16,
     "metadata": {},
     "output_type": "execute_result"
    }
   ],
   "source": [
    "def isempty(x):\n",
    "    try:\n",
    "        if x is None: \n",
    "            return True\n",
    "        elif len(x)<1:\n",
    "            return True\n",
    "        else:\n",
    "            return False\n",
    "    except:\n",
    "        # floating point nans\n",
    "        return True\n",
    "all_ingred = drink_df[[x for x in drink_df.columns \n",
    "                       if 'Ingredient' in x]].apply(lambda c_row: [v.lower() for k,v in c_row.items() if not isempty(v)],1)\n",
    "all_ingred[0:3]"
   ]
  },
  {
   "cell_type": "code",
   "execution_count": 18,
   "metadata": {},
   "outputs": [
    {
     "name": "stdout",
     "output_type": "stream",
     "text": [
      "Found 308 unique ingredients,  ['151 proof rum' '7-up' 'absinthe']\n"
     ]
    }
   ],
   "source": [
    "from sklearn.preprocessing import LabelEncoder\n",
    "\n",
    "ingred_label = LabelEncoder()\n",
    "ingred_label.fit(list(chain(*all_ingred.values)))\n",
    "print('Found', len(ingred_label.classes_), 'unique ingredients, ', ingred_label.classes_[0:3])"
   ]
  },
  {
   "cell_type": "code",
   "execution_count": 19,
   "metadata": {},
   "outputs": [],
   "source": [
    "y_vec = np.stack(all_ingred.map(lambda x: np.sum(to_categorical(ingred_label.transform(x), \n",
    "                                        num_classes=len(ingred_label.classes_)),0)),0).clip(0,1)"
   ]
  },
  {
   "cell_type": "code",
   "execution_count": 20,
   "metadata": {},
   "outputs": [],
   "source": [
    "from sklearn.metrics import mean_absolute_error\n",
    "from sklearn.model_selection import train_test_split\n",
    "train_idx, test_idx = train_test_split(range(y_vec.shape[0]), \n",
    "                                                    random_state = 12345,\n",
    "                                                   train_size = 0.7)"
   ]
  },
  {
   "cell_type": "code",
   "execution_count": 21,
   "metadata": {},
   "outputs": [
    {
     "name": "stdout",
     "output_type": "stream",
     "text": [
      "Model: \"sequential_1\"\n",
      "_________________________________________________________________\n",
      "Layer (type)                 Output Shape              Param #   \n",
      "=================================================================\n",
      "masking_1 (Masking)          (None, None)              0         \n",
      "_________________________________________________________________\n",
      "embedding_1 (Embedding)      (None, None, 32)          1536      \n",
      "_________________________________________________________________\n",
      "lstm_1 (LSTM)                (None, 128)               82432     \n",
      "_________________________________________________________________\n",
      "dense_1 (Dense)              (None, 308)               39732     \n",
      "=================================================================\n",
      "Total params: 123,700\n",
      "Trainable params: 123,700\n",
      "Non-trainable params: 0\n",
      "_________________________________________________________________\n"
     ]
    }
   ],
   "source": [
    "from keras.models import Sequential\n",
    "from keras.layers import Embedding, LSTM, Dense, Dropout, Bidirectional, Masking\n",
    "from keras.optimizers import Adam\n",
    "# model based loosely on https://github.com/fchollet/keras/blob/master/examples/imdb_lstm.py\n",
    "simple_sequence_model = Sequential()\n",
    "simple_sequence_model.add(Masking(0, input_shape = (None,)))\n",
    "simple_sequence_model.add(Embedding(len(char_index)+1, 32))\n",
    "simple_sequence_model.add(LSTM(128, dropout=0.2, recurrent_dropout=0.2))\n",
    "simple_sequence_model.add(Dense(y_vec.shape[1], \n",
    "                                activation = 'sigmoid'))\n",
    "simple_sequence_model.compile(loss = 'binary_crossentropy', # categorical and mae don't work well here\n",
    "                              optimizer = Adam(lr = 5e-4, decay = 1e-6), \n",
    "                             metrics = ['mae'])\n",
    "simple_sequence_model.summary()"
   ]
  },
  {
   "cell_type": "code",
   "execution_count": 22,
   "metadata": {},
   "outputs": [
    {
     "name": "stderr",
     "output_type": "stream",
     "text": [
      "C:\\ProgramData\\Anaconda3\\lib\\site-packages\\tensorflow_core\\python\\framework\\indexed_slices.py:424: UserWarning: Converting sparse IndexedSlices to a dense Tensor of unknown shape. This may consume a large amount of memory.\n",
      "  \"Converting sparse IndexedSlices to a dense Tensor of unknown shape. \"\n"
     ]
    },
    {
     "name": "stdout",
     "output_type": "stream",
     "text": [
      "Train on 382 samples, validate on 164 samples\n",
      "Epoch 1/10\n",
      "382/382 [==============================] - ETA: 4s - loss: 0.6932 - mae: 0.500 - ETA: 1s - loss: 0.6928 - mae: 0.499 - ETA: 0s - loss: 0.6923 - mae: 0.499 - ETA: 0s - loss: 0.6918 - mae: 0.499 - ETA: 0s - loss: 0.6912 - mae: 0.499 - ETA: 0s - loss: 0.6904 - mae: 0.498 - 1s 2ms/step - loss: 0.6900 - mae: 0.4984 - val_loss: 0.6827 - val_mae: 0.4947\n",
      "Epoch 2/10\n",
      "382/382 [==============================] - ETA: 0s - loss: 0.6824 - mae: 0.494 - ETA: 0s - loss: 0.6796 - mae: 0.493 - ETA: 0s - loss: 0.6711 - mae: 0.488 - ETA: 0s - loss: 0.6603 - mae: 0.482 - ETA: 0s - loss: 0.6415 - mae: 0.472 - 0s 927us/step - loss: 0.6183 - mae: 0.4585 - val_loss: 0.4440 - val_mae: 0.3516\n",
      "Epoch 3/10\n",
      "382/382 [==============================] - ETA: 0s - loss: 0.4494 - mae: 0.355 - ETA: 0s - loss: 0.4127 - mae: 0.330 - ETA: 0s - loss: 0.3787 - mae: 0.306 - ETA: 0s - loss: 0.3580 - mae: 0.290 - 0s 864us/step - loss: 0.3297 - mae: 0.2696 - val_loss: 0.2137 - val_mae: 0.1796\n",
      "Epoch 4/10\n",
      "382/382 [==============================] - ETA: 0s - loss: 0.2139 - mae: 0.180 - ETA: 0s - loss: 0.1954 - mae: 0.163 - ETA: 0s - loss: 0.1779 - mae: 0.148 - ETA: 0s - loss: 0.1640 - mae: 0.136 - 0s 856us/step - loss: 0.1561 - mae: 0.1288 - val_loss: 0.1098 - val_mae: 0.0836\n",
      "Epoch 5/10\n",
      "382/382 [==============================] - ETA: 0s - loss: 0.1117 - mae: 0.084 - ETA: 0s - loss: 0.1034 - mae: 0.077 - ETA: 0s - loss: 0.0980 - mae: 0.072 - ETA: 0s - loss: 0.0951 - mae: 0.069 - ETA: 0s - loss: 0.0925 - mae: 0.066 - 0s 875us/step - loss: 0.0912 - mae: 0.0653 - val_loss: 0.0798 - val_mae: 0.0508\n",
      "Epoch 6/10\n",
      "382/382 [==============================] - ETA: 0s - loss: 0.0744 - mae: 0.049 - ETA: 0s - loss: 0.0741 - mae: 0.048 - ETA: 0s - loss: 0.0734 - mae: 0.046 - ETA: 0s - loss: 0.0731 - mae: 0.045 - 0s 869us/step - loss: 0.0726 - mae: 0.0445 - val_loss: 0.0705 - val_mae: 0.0398\n",
      "Epoch 7/10\n",
      "382/382 [==============================] - ETA: 0s - loss: 0.0703 - mae: 0.039 - ETA: 0s - loss: 0.0692 - mae: 0.039 - ETA: 0s - loss: 0.0676 - mae: 0.038 - ETA: 0s - loss: 0.0664 - mae: 0.037 - ETA: 0s - loss: 0.0665 - mae: 0.037 - 0s 882us/step - loss: 0.0659 - mae: 0.0369 - val_loss: 0.0667 - val_mae: 0.0352\n",
      "Epoch 8/10\n",
      "382/382 [==============================] - ETA: 0s - loss: 0.0631 - mae: 0.034 - ETA: 0s - loss: 0.0626 - mae: 0.034 - ETA: 0s - loss: 0.0624 - mae: 0.033 - ETA: 0s - loss: 0.0624 - mae: 0.033 - 0s 859us/step - loss: 0.0629 - mae: 0.0335 - val_loss: 0.0648 - val_mae: 0.0328\n",
      "Epoch 9/10\n",
      "382/382 [==============================] - ETA: 0s - loss: 0.0630 - mae: 0.033 - ETA: 0s - loss: 0.0618 - mae: 0.032 - ETA: 0s - loss: 0.0613 - mae: 0.031 - ETA: 0s - loss: 0.0615 - mae: 0.031 - ETA: 0s - loss: 0.0615 - mae: 0.031 - 0s 864us/step - loss: 0.0613 - mae: 0.0315 - val_loss: 0.0637 - val_mae: 0.0313\n",
      "Epoch 10/10\n",
      "382/382 [==============================] - ETA: 0s - loss: 0.0603 - mae: 0.030 - ETA: 0s - loss: 0.0579 - mae: 0.030 - ETA: 0s - loss: 0.0597 - mae: 0.030 - ETA: 0s - loss: 0.0599 - mae: 0.030 - ETA: 0s - loss: 0.0603 - mae: 0.030 - ETA: 0s - loss: 0.0606 - mae: 0.030 - 0s 903us/step - loss: 0.0602 - mae: 0.0302 - val_loss: 0.0630 - val_mae: 0.0301\n",
      "Mean Error 3.01%\n"
     ]
    }
   ],
   "source": [
    "simple_sequence_model.fit(train_data[train_idx], y_vec[train_idx], epochs=10,\n",
    "                          batch_size = 32,\n",
    "                         validation_data = (train_data[test_idx], y_vec[test_idx]), \n",
    "                          verbose = 1)\n",
    "pred_vec = simple_sequence_model.predict(train_data[test_idx])\n",
    "\n",
    "print('Mean Error %2.2f%%' % (100*mean_absolute_error(y_vec[test_idx], pred_vec)))"
   ]
  },
  {
   "cell_type": "code",
   "execution_count": 26,
   "metadata": {},
   "outputs": [
    {
     "name": "stdout",
     "output_type": "stream",
     "text": [
      "Input Name: Kioki Coffee\n",
      "Real Ingredients ['kahlua', 'brandy', 'coffee']\n",
      "Predicted Ingredients\n"
     ]
    },
    {
     "ename": "ValueError",
     "evalue": "bad input shape ()",
     "output_type": "error",
     "traceback": [
      "\u001b[1;31m---------------------------------------------------------------------------\u001b[0m",
      "\u001b[1;31mValueError\u001b[0m                                Traceback (most recent call last)",
      "\u001b[1;32m<ipython-input-26-4d8d09eb57c0>\u001b[0m in \u001b[0;36m<module>\u001b[1;34m\u001b[0m\n\u001b[0;32m      6\u001b[0m \u001b[1;33m\u001b[0m\u001b[0m\n\u001b[0;32m      7\u001b[0m \u001b[0mprint\u001b[0m\u001b[1;33m(\u001b[0m\u001b[1;34m'Predicted Ingredients'\u001b[0m\u001b[1;33m)\u001b[0m\u001b[1;33m\u001b[0m\u001b[1;33m\u001b[0m\u001b[0m\n\u001b[1;32m----> 8\u001b[1;33m \u001b[1;32mfor\u001b[0m \u001b[0m_\u001b[0m\u001b[1;33m,\u001b[0m \u001b[1;33m(\u001b[0m\u001b[0mi\u001b[0m\u001b[1;33m,\u001b[0m\u001b[0mj\u001b[0m\u001b[1;33m)\u001b[0m \u001b[1;32min\u001b[0m \u001b[0mzip\u001b[0m\u001b[1;33m(\u001b[0m\u001b[0mrange\u001b[0m\u001b[1;33m(\u001b[0m\u001b[1;36m5\u001b[0m\u001b[1;33m)\u001b[0m\u001b[1;33m,\u001b[0m \u001b[0mproc_pred\u001b[0m\u001b[1;33m(\u001b[0m\u001b[0mpred_vec\u001b[0m\u001b[1;33m[\u001b[0m\u001b[1;36m0\u001b[0m\u001b[1;33m]\u001b[0m\u001b[1;33m)\u001b[0m\u001b[1;33m)\u001b[0m\u001b[1;33m:\u001b[0m\u001b[1;33m\u001b[0m\u001b[1;33m\u001b[0m\u001b[0m\n\u001b[0m\u001b[0;32m      9\u001b[0m     \u001b[0mprint\u001b[0m\u001b[1;33m(\u001b[0m\u001b[1;34m'%25s\\t\\t%2.2f%%'\u001b[0m \u001b[1;33m%\u001b[0m \u001b[1;33m(\u001b[0m\u001b[0mi\u001b[0m\u001b[1;33m,\u001b[0m\u001b[1;36m100\u001b[0m\u001b[1;33m*\u001b[0m\u001b[0mj\u001b[0m\u001b[1;33m)\u001b[0m\u001b[1;33m)\u001b[0m\u001b[1;33m\u001b[0m\u001b[1;33m\u001b[0m\u001b[0m\n",
      "\u001b[1;32m<ipython-input-26-4d8d09eb57c0>\u001b[0m in \u001b[0;36m<lambda>\u001b[1;34m(out_pred)\u001b[0m\n\u001b[0;32m      3\u001b[0m \u001b[1;33m\u001b[0m\u001b[0m\n\u001b[0;32m      4\u001b[0m proc_pred = lambda out_pred: sorted([(ingred_label.inverse_transform(idx), out_pred[idx])\n\u001b[1;32m----> 5\u001b[1;33m                               for idx in np.where(out_pred>0)[0]], key = lambda x: -x[1])\n\u001b[0m\u001b[0;32m      6\u001b[0m \u001b[1;33m\u001b[0m\u001b[0m\n\u001b[0;32m      7\u001b[0m \u001b[0mprint\u001b[0m\u001b[1;33m(\u001b[0m\u001b[1;34m'Predicted Ingredients'\u001b[0m\u001b[1;33m)\u001b[0m\u001b[1;33m\u001b[0m\u001b[1;33m\u001b[0m\u001b[0m\n",
      "\u001b[1;32m<ipython-input-26-4d8d09eb57c0>\u001b[0m in \u001b[0;36m<listcomp>\u001b[1;34m(.0)\u001b[0m\n\u001b[0;32m      3\u001b[0m \u001b[1;33m\u001b[0m\u001b[0m\n\u001b[0;32m      4\u001b[0m proc_pred = lambda out_pred: sorted([(ingred_label.inverse_transform(idx), out_pred[idx])\n\u001b[1;32m----> 5\u001b[1;33m                               for idx in np.where(out_pred>0)[0]], key = lambda x: -x[1])\n\u001b[0m\u001b[0;32m      6\u001b[0m \u001b[1;33m\u001b[0m\u001b[0m\n\u001b[0;32m      7\u001b[0m \u001b[0mprint\u001b[0m\u001b[1;33m(\u001b[0m\u001b[1;34m'Predicted Ingredients'\u001b[0m\u001b[1;33m)\u001b[0m\u001b[1;33m\u001b[0m\u001b[1;33m\u001b[0m\u001b[0m\n",
      "\u001b[1;32mC:\\ProgramData\\Anaconda3\\lib\\site-packages\\sklearn\\preprocessing\\label.py\u001b[0m in \u001b[0;36minverse_transform\u001b[1;34m(self, y)\u001b[0m\n\u001b[0;32m    271\u001b[0m         \"\"\"\n\u001b[0;32m    272\u001b[0m         \u001b[0mcheck_is_fitted\u001b[0m\u001b[1;33m(\u001b[0m\u001b[0mself\u001b[0m\u001b[1;33m,\u001b[0m \u001b[1;34m'classes_'\u001b[0m\u001b[1;33m)\u001b[0m\u001b[1;33m\u001b[0m\u001b[1;33m\u001b[0m\u001b[0m\n\u001b[1;32m--> 273\u001b[1;33m         \u001b[0my\u001b[0m \u001b[1;33m=\u001b[0m \u001b[0mcolumn_or_1d\u001b[0m\u001b[1;33m(\u001b[0m\u001b[0my\u001b[0m\u001b[1;33m,\u001b[0m \u001b[0mwarn\u001b[0m\u001b[1;33m=\u001b[0m\u001b[1;32mTrue\u001b[0m\u001b[1;33m)\u001b[0m\u001b[1;33m\u001b[0m\u001b[1;33m\u001b[0m\u001b[0m\n\u001b[0m\u001b[0;32m    274\u001b[0m         \u001b[1;31m# inverse transform of empty array is empty array\u001b[0m\u001b[1;33m\u001b[0m\u001b[1;33m\u001b[0m\u001b[1;33m\u001b[0m\u001b[0m\n\u001b[0;32m    275\u001b[0m         \u001b[1;32mif\u001b[0m \u001b[0m_num_samples\u001b[0m\u001b[1;33m(\u001b[0m\u001b[0my\u001b[0m\u001b[1;33m)\u001b[0m \u001b[1;33m==\u001b[0m \u001b[1;36m0\u001b[0m\u001b[1;33m:\u001b[0m\u001b[1;33m\u001b[0m\u001b[1;33m\u001b[0m\u001b[0m\n",
      "\u001b[1;32mC:\\ProgramData\\Anaconda3\\lib\\site-packages\\sklearn\\utils\\validation.py\u001b[0m in \u001b[0;36mcolumn_or_1d\u001b[1;34m(y, warn)\u001b[0m\n\u001b[0;32m    758\u001b[0m         \u001b[1;32mreturn\u001b[0m \u001b[0mnp\u001b[0m\u001b[1;33m.\u001b[0m\u001b[0mravel\u001b[0m\u001b[1;33m(\u001b[0m\u001b[0my\u001b[0m\u001b[1;33m)\u001b[0m\u001b[1;33m\u001b[0m\u001b[1;33m\u001b[0m\u001b[0m\n\u001b[0;32m    759\u001b[0m \u001b[1;33m\u001b[0m\u001b[0m\n\u001b[1;32m--> 760\u001b[1;33m     \u001b[1;32mraise\u001b[0m \u001b[0mValueError\u001b[0m\u001b[1;33m(\u001b[0m\u001b[1;34m\"bad input shape {0}\"\u001b[0m\u001b[1;33m.\u001b[0m\u001b[0mformat\u001b[0m\u001b[1;33m(\u001b[0m\u001b[0mshape\u001b[0m\u001b[1;33m)\u001b[0m\u001b[1;33m)\u001b[0m\u001b[1;33m\u001b[0m\u001b[1;33m\u001b[0m\u001b[0m\n\u001b[0m\u001b[0;32m    761\u001b[0m \u001b[1;33m\u001b[0m\u001b[0m\n\u001b[0;32m    762\u001b[0m \u001b[1;33m\u001b[0m\u001b[0m\n",
      "\u001b[1;31mValueError\u001b[0m: bad input shape ()"
     ]
    }
   ],
   "source": [
    "print('Input Name:', drink_df['strDrink'].values[test_idx[0]])\n",
    "print('Real Ingredients', all_ingred.values[test_idx[0]])\n",
    "\n",
    "proc_pred = lambda out_pred: sorted([(ingred_label.inverse_transform(idx), out_pred[idx])\n",
    "                              for idx in np.where(out_pred>0)[0]], key = lambda x: -x[1])\n",
    "\n",
    "print('Predicted Ingredients')\n",
    "for _, (i,j) in zip(range(5), proc_pred(pred_vec[0])):\n",
    "    print('%25s\\t\\t%2.2f%%' % (i,100*j))"
   ]
  },
  {
   "cell_type": "code",
   "execution_count": null,
   "metadata": {},
   "outputs": [],
   "source": []
  }
 ],
 "metadata": {
  "kernelspec": {
   "display_name": "Python 3",
   "language": "python",
   "name": "python3"
  },
  "language_info": {
   "codemirror_mode": {
    "name": "ipython",
    "version": 3
   },
   "file_extension": ".py",
   "mimetype": "text/x-python",
   "name": "python",
   "nbconvert_exporter": "python",
   "pygments_lexer": "ipython3",
   "version": "3.7.3"
  }
 },
 "nbformat": 4,
 "nbformat_minor": 2
}
